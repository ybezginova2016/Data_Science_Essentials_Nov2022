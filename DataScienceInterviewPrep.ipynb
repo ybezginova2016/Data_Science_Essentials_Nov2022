{
 "cells": [
  {
   "cell_type": "markdown",
   "id": "d66dfa44",
   "metadata": {},
   "source": [
    "# Data Science Interview Kit"
   ]
  },
  {
   "cell_type": "markdown",
   "id": "511ca9fc",
   "metadata": {},
   "source": [
    "## 1 - Case questions\n",
    "\n",
    "To answer in the format of **STAR: Situation, Task, Actions, and Results.**"
   ]
  },
  {
   "cell_type": "markdown",
   "id": "6e25a5f0",
   "metadata": {},
   "source": [
    "## 2 - Machine Learning Questions"
   ]
  },
  {
   "cell_type": "markdown",
   "id": "337b3d3b",
   "metadata": {},
   "source": [
    "### A/B Testing Design"
   ]
  },
  {
   "cell_type": "markdown",
   "id": "f35591f9",
   "metadata": {},
   "source": [
    "### How would you approach designing A/B test?\n",
    "\n",
    "#### 1. Setting Metrics\n",
    "A good metric is simple, directly related to the goal at hand, and quantifiable.\n",
    "\n",
    "#### 2. Constructing Thresholds\n",
    "What degree does your key metric must change in order for the experiment to be considered successful?\n",
    "\n",
    "#### 3. Sample Size and Experiment Length\n",
    "How large of a group are we going to test on and for how long?\n",
    "\n",
    "#### 4. Randomization and Assignment\n",
    "Who gets which version of the test and when? We need at least one control group and one focus / variant group.\n",
    "\n",
    "***Example:*** How would you make a control group for instagram stories, if you have to also account for network effects? **Are we making a control group of the viewers or creators?**"
   ]
  },
  {
   "cell_type": "markdown",
   "id": "c7313253",
   "metadata": {},
   "source": [
    "## 3 - Statistics\n",
    "\n",
    "#### 1) How would you explain what a p-value is to someone who is non-technical?\n",
    "\n",
    "#### 2) What does it mean if a distribution is left or right skewed?"
   ]
  },
  {
   "cell_type": "markdown",
   "id": "60cdbce3",
   "metadata": {},
   "source": [
    "## 4 - Data Science SQL questions\n",
    "\n",
    "#### 1) What is the difference between WHERE and HAVING?\n",
    "#### 2) What is the difference between a left join and a right join?\n",
    "#### 3) CASE: Given the employee and departments table write a query to get the top three highest employee salaries by department."
   ]
  },
  {
   "cell_type": "markdown",
   "id": "02100909",
   "metadata": {},
   "source": [
    "## 5 - Python interview questions"
   ]
  },
  {
   "cell_type": "markdown",
   "id": "3573bc30",
   "metadata": {},
   "source": [
    "#### 1) Write a function to generate N samples from a normal distribution and plot the histogram.\n",
    "\n",
    "#### 2) Given a dictionary consisting of many roots and sentences write a function to stem all the words in the sentence with the root forming it.\n",
    "\n",
    "#### 3) Write a function to list the pairs of friends with their corresponding timestamps of the friendship beginning and the timestamp of the friendship ending."
   ]
  },
  {
   "cell_type": "markdown",
   "id": "afb23e32",
   "metadata": {},
   "source": [
    "## 6 - Probability questions\n",
    "#### 1) Compute the probability that you will get a pair from a hand of end cards?"
   ]
  },
  {
   "cell_type": "markdown",
   "id": "547ad47f",
   "metadata": {},
   "source": [
    "## Four Process Framework\n",
    "\n",
    "- Clarification\n",
    "- Stating your assumptions\n",
    "- Setting up hypotheses\n",
    "- Defining metrics"
   ]
  },
  {
   "cell_type": "markdown",
   "id": "b27cd73a",
   "metadata": {},
   "source": [
    "#### CASE: A PM tells you the weekly active user metric is up 5%, but email notification open rates are down 2%. What would you investigate to diagnose this problem?"
   ]
  },
  {
   "cell_type": "code",
   "execution_count": null,
   "id": "ba15c35e",
   "metadata": {},
   "outputs": [],
   "source": []
  }
 ],
 "metadata": {
  "kernelspec": {
   "display_name": "Python 3 (ipykernel)",
   "language": "python",
   "name": "python3"
  },
  "language_info": {
   "codemirror_mode": {
    "name": "ipython",
    "version": 3
   },
   "file_extension": ".py",
   "mimetype": "text/x-python",
   "name": "python",
   "nbconvert_exporter": "python",
   "pygments_lexer": "ipython3",
   "version": "3.9.7"
  }
 },
 "nbformat": 4,
 "nbformat_minor": 5
}
