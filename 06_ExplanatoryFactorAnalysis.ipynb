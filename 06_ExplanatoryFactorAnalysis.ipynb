{
 "cells": [
  {
   "cell_type": "markdown",
   "metadata": {},
   "source": [
    "# Chapter 5 - Dimensionality Reduction Methods\n",
    "\n",
    "## Segment 1 - Explanatory factor analysis"
   ]
  },
  {
   "cell_type": "markdown",
   "metadata": {},
   "source": [
    "### Factor Analysis \n",
    "A method that explores a dataset in order to find root causes which explain why data is acting a certain way.\n",
    "\n",
    "**Factors** (or ***latent variables)*** are variables that are quite meaningful but that are inferred and not directly observable.\n",
    "\n",
    "### Factor Analysis Assumptions\n",
    "- features are metric\n",
    "- Features are continous or ordinal.\n",
    "- There is r > 0.3 correlation between the features in your dataset.\n",
    "- You have > 100 observations and > 5 observations per feature.\n",
    "- Sample is homogenous.\n",
    "\n",
    "### The Iris Dataset\n",
    "#### Iris flowers ***labels***\n",
    "- Setosa\n",
    "- Versicolour\n",
    "- Virginica\n",
    "\n",
    "#### Attributes ***predictive features***\n",
    "- Sepal length\n",
    "- Sepal width\n",
    "- Petal length\n",
    "- Petal width\n",
    "\n",
    "### Factor Loading\n",
    "**The output of factors are called factor loadings.**\n",
    "\n",
    "If you get a loading that's near negative one or one, then you know that the factor has a strong influence on the variable. When you get a loading that's close to zero, you can say that the factor weakly influences the variable. \n",
    "\n",
    "- ~ -1 or 1 = Factor has a strong influence on the variable.\n",
    "- ~ 0 = Factor weakly influences on the variable.\n",
    "- higher than 1 = That means these are highly correlated factors.\n",
    "\n",
    "You can get loadings of greater than one, that just means that you have highly correlated factors."
   ]
  },
  {
   "cell_type": "code",
   "execution_count": 1,
   "metadata": {},
   "outputs": [],
   "source": [
    "import pandas as pd\n",
    "import numpy as np\n",
    "\n",
    "import sklearn\n",
    "from sklearn.decomposition import FactorAnalysis\n",
    "\n",
    "from sklearn import datasets"
   ]
  },
  {
   "cell_type": "markdown",
   "metadata": {
    "collapsed": true
   },
   "source": [
    "### Factor analysis on iris dataset"
   ]
  },
  {
   "cell_type": "code",
   "execution_count": 3,
   "metadata": {},
   "outputs": [
    {
     "data": {
      "text/plain": [
       "array([[5.1, 3.5, 1.4, 0.2],\n",
       "       [4.9, 3. , 1.4, 0.2],\n",
       "       [4.7, 3.2, 1.3, 0.2],\n",
       "       [4.6, 3.1, 1.5, 0.2],\n",
       "       [5. , 3.6, 1.4, 0.2],\n",
       "       [5.4, 3.9, 1.7, 0.4],\n",
       "       [4.6, 3.4, 1.4, 0.3],\n",
       "       [5. , 3.4, 1.5, 0.2],\n",
       "       [4.4, 2.9, 1.4, 0.2],\n",
       "       [4.9, 3.1, 1.5, 0.1]])"
      ]
     },
     "execution_count": 3,
     "metadata": {},
     "output_type": "execute_result"
    }
   ],
   "source": [
    "iris =  datasets.load_iris()\n",
    "\n",
    "X = iris.data\n",
    "variable_names = iris.feature_names\n",
    "\n",
    "X[0:10,]"
   ]
  },
  {
   "cell_type": "code",
   "execution_count": 5,
   "metadata": {},
   "outputs": [
    {
     "name": "stdout",
     "output_type": "stream",
     "text": [
      "   sepal length (cm)  sepal width (cm)  petal length (cm)  petal width (cm)\n",
      "0           0.706989         -0.158005           1.654236           0.70085\n",
      "1           0.115161          0.159635          -0.044321          -0.01403\n",
      "2          -0.000000          0.000000           0.000000           0.00000\n",
      "3          -0.000000          0.000000           0.000000          -0.00000\n"
     ]
    }
   ],
   "source": [
    "factor = FactorAnalysis().fit(X)\n",
    "\n",
    "DF = pd.DataFrame(factor.components_, columns=variable_names)\n",
    "print(DF)"
   ]
  },
  {
   "cell_type": "markdown",
   "metadata": {},
   "source": [
    "Thank you for going through this project. \n",
    "Your comments are more then welcome to ybezginova2021@gmail.com\n",
    "\n",
    "Best wishes,\n",
    "\n",
    "Yulia"
   ]
  }
 ],
 "metadata": {
  "kernelspec": {
   "display_name": "Python 3 (ipykernel)",
   "language": "python",
   "name": "python3"
  },
  "language_info": {
   "codemirror_mode": {
    "name": "ipython",
    "version": 3
   },
   "file_extension": ".py",
   "mimetype": "text/x-python",
   "name": "python",
   "nbconvert_exporter": "python",
   "pygments_lexer": "ipython3",
   "version": "3.9.7"
  }
 },
 "nbformat": 4,
 "nbformat_minor": 1
}
